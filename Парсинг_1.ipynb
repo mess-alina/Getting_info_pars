{
 "cells": [
  {
   "cell_type": "markdown",
   "id": "e175acf8",
   "metadata": {},
   "source": [
    "# Домашняя работа 1"
   ]
  },
  {
   "cell_type": "markdown",
   "id": "5d5c2905",
   "metadata": {},
   "source": [
    "__1. Посмотреть документацию к API GitHub, разобраться как вывести список репозиториев для конкретного пользователя, сохранить JSON-вывод в файле *.json.__"
   ]
  },
  {
   "cell_type": "markdown",
   "id": "87c71222",
   "metadata": {},
   "source": [
    "Из документации:  \n",
    "curl \\\n",
    "  -H \"Accept: application/vnd.github+json\" \\\n",
    "  -H \"Authorization: Bearer <YOUR-TOKEN>\"\\\n",
    "  -H \"X-GitHub-Api-Version: 2022-11-28\" \\\n",
    " https://api.github.com/users/USERNAME/repos"
   ]
  },
  {
   "cell_type": "code",
   "execution_count": 1,
   "id": "d9161c6a",
   "metadata": {},
   "outputs": [
    {
     "name": "stdout",
     "output_type": "stream",
     "text": [
      "Requirement already satisfied: requests in c:\\users\\alina\\anaconda3\\lib\\site-packages (2.27.1)\n",
      "Requirement already satisfied: charset-normalizer~=2.0.0 in c:\\users\\alina\\anaconda3\\lib\\site-packages (from requests) (2.0.4)\n",
      "Requirement already satisfied: certifi>=2017.4.17 in c:\\users\\alina\\anaconda3\\lib\\site-packages (from requests) (2021.10.8)\n",
      "Requirement already satisfied: urllib3<1.27,>=1.21.1 in c:\\users\\alina\\anaconda3\\lib\\site-packages (from requests) (1.26.9)\n",
      "Requirement already satisfied: idna<4,>=2.5 in c:\\users\\alina\\anaconda3\\lib\\site-packages (from requests) (3.3)\n",
      "Note: you may need to restart the kernel to use updated packages.\n"
     ]
    }
   ],
   "source": [
    "pip install requests"
   ]
  },
  {
   "cell_type": "code",
   "execution_count": 2,
   "id": "f3eb47d0",
   "metadata": {},
   "outputs": [],
   "source": [
    "import requests\n",
    "from pprint import pprint\n",
    "import json"
   ]
  },
  {
   "cell_type": "code",
   "execution_count": null,
   "id": "745e3274",
   "metadata": {},
   "outputs": [],
   "source": [
    "username = input('Введите имя пользователя: ')\n",
    "url = 'https://api.github.com/users/'+username+'/repos'\n",
    "response = requests.get(url)\n",
    "response = response.json()\n",
    "\n",
    "repo = []\n",
    "for r in response:\n",
    "    repo.append(r['name'])\n",
    "print(f'Список репозиториев пользователя {username}')\n",
    "print(repo)\n",
    "\n",
    "with open('repo_list.json', 'w') as f:\n",
    "    json.dump(repo, f)"
   ]
  },
  {
   "cell_type": "markdown",
   "id": "daff7401",
   "metadata": {},
   "source": [
    "__2. Изучить список открытых API (https://www.programmableweb.com/category/all/apis). Найти среди них любое, требующее авторизацию (любого типа). Выполнить запросы к нему, пройдя авторизацию. Ответ сервера записать в файл.\n",
    "Если нет желания заморачиваться с поиском, возьмите API вконтакте (https://vk.com/dev/first_guide). Сделайте запрос, чтобы получить список всех сообществ на которые вы подписаны.__"
   ]
  },
  {
   "cell_type": "code",
   "execution_count": null,
   "id": "0b528158",
   "metadata": {},
   "outputs": [],
   "source": [
    "url = 'https://api.vk.com/method/groups.get?'\n",
    "params = {'user_ids': '820368',\n",
    "          'access_token': 'vk1.a.HUwXF7WTWeb586yvRzMtJBNT4HvBocrJPA6o10UD1DWGPykoa-xrr1aSGWe8s2FAIRDy1HIpr5z3cAb_meb4HBeNal6jlO11ax2yrSPu9cLA6ompdZbIiTHVRX2P6T5pHYBrr7ajYms5BHb-UCEmXaSARsj5hoTY7RoyOFPnRKPP2-YyO1DAinCYDOhbRAySQJeiENnSbc1_NC5VXFQL7A',\n",
    "          'v': '5.131',\n",
    "         'extended': '1'}\n",
    "response = requests.get(url,params)\n",
    "pprint(response.json())"
   ]
  },
  {
   "cell_type": "code",
   "execution_count": null,
   "id": "a6bed499",
   "metadata": {},
   "outputs": [],
   "source": [
    "items = response.json()['response']['items']\n",
    "for itm in items:\n",
    "    print(itm['name'])"
   ]
  }
 ],
 "metadata": {
  "kernelspec": {
   "display_name": "Python 3 (ipykernel)",
   "language": "python",
   "name": "python3"
  },
  "language_info": {
   "codemirror_mode": {
    "name": "ipython",
    "version": 3
   },
   "file_extension": ".py",
   "mimetype": "text/x-python",
   "name": "python",
   "nbconvert_exporter": "python",
   "pygments_lexer": "ipython3",
   "version": "3.9.12"
  }
 },
 "nbformat": 4,
 "nbformat_minor": 5
}
